{
 "cells": [
  {
   "cell_type": "code",
   "execution_count": 1,
   "metadata": {},
   "outputs": [
    {
     "data": {
      "text/plain": [
       "'/Users/nilsgandlau/code/browser-automation'"
      ]
     },
     "execution_count": 1,
     "metadata": {},
     "output_type": "execute_result"
    }
   ],
   "source": [
    "import os\n",
    "import subprocess\n",
    "\n",
    "# autoreload any .py scripts\n",
    "%load_ext autoreload\n",
    "%autoreload 2\n",
    "\n",
    "# set the project's root directory as the notebooks' working directory\n",
    "# git_root = subprocess.run(['git', 'rev-parse', '--show-toplevel'], capture_output=True, text=True).stdout.strip()\n",
    "if os.getcwd().endswith(\"notebooks\"): os.chdir(\"..\")\n",
    "os.getcwd()\n"
   ]
  },
  {
   "cell_type": "code",
   "execution_count": 1,
   "metadata": {},
   "outputs": [],
   "source": [
    "from typing import Any\n",
    "import requests\n",
    "\n",
    "def get_openai_response(\n",
    "    api_key: str,\n",
    "    prompt: str,\n",
    "    image: Any, # base64 encoded image data\n",
    "    max_tokens: int = 300\n",
    ") -> dict:\n",
    "    headers = {\n",
    "        \"Content-Type\": \"application/json\",\n",
    "        \"Authorization\": f\"Bearer {api_key}\"\n",
    "    }\n",
    "    payload = {\n",
    "        \"model\": \"gpt-4o\",\n",
    "        \"messages\": [\n",
    "            {\n",
    "            \"role\": \"user\",\n",
    "            \"content\": [\n",
    "                {\n",
    "                \"type\": \"text\",\n",
    "                \"text\": prompt,\n",
    "                },\n",
    "                {\n",
    "                \"type\": \"image_url\",\n",
    "                \"image_url\": {\n",
    "                    \"url\": f\"data:image/jpeg;base64,{image}\"\n",
    "                }\n",
    "                }\n",
    "            ]\n",
    "            }\n",
    "        ],\n",
    "        \"max_tokens\": max_tokens\n",
    "    }\n",
    "    response = requests.post(\"https://api.openai.com/v1/chat/completions\", headers=headers, json=payload)\n",
    "    return response.json()"
   ]
  },
  {
   "cell_type": "code",
   "execution_count": 7,
   "metadata": {},
   "outputs": [],
   "source": [
    "from pathlib import Path\n",
    "from src.utils import encode_image\n",
    "import requests\n",
    "\n",
    "\n",
    "def create_user_message(prompt: str | None, image_paths: list[Path] | None) -> dict:\n",
    "    content = []\n",
    "    if prompt: content += [{\"type\": \"text\", \"text\": prompt}]\n",
    "    if image_paths: content += [{\"type\": \"image_url\", \"image_url\": {\"url\": f\"data:image/jpeg;base64,{encode_image(img_path)}\"}} for img_path in image_paths]\n",
    "    return {\"role\": \"user\", \"content\": content}\n",
    "\n",
    "def create_payload(user_message: dict, max_tokens: int = 300) -> dict:\n",
    "    return {\n",
    "        \"model\": \"gpt-4o\",\n",
    "        \"messages\": [user_message],\n",
    "        \"max_tokens\": max_tokens\n",
    "    }\n",
    "\n",
    "def get_openai_response(\n",
    "    api_key: str,\n",
    "    payload: dict,\n",
    ") -> dict:\n",
    "    headers = {\"Content-Type\": \"application/json\", \"Authorization\": f\"Bearer {api_key}\"}\n",
    "    response = requests.post(\"https://api.openai.com/v1/chat/completions\", headers=headers, json=payload)\n",
    "    return response.json()\n",
    "\n",
    "def get_response_text(openai_response: dict) -> str:\n",
    "    return openai_response[\"choices\"][0][\"message\"][\"content\"]"
   ]
  },
  {
   "cell_type": "code",
   "execution_count": 15,
   "metadata": {},
   "outputs": [
    {
     "name": "stdout",
     "output_type": "stream",
     "text": [
      "The two images provided are screenshots from the same website for Sportclub SAFO Frankfurt, but they showcase different parts of the site. Here are the key differences between the two images:\n",
      "\n",
      "1. **Content Focus:**\n",
      "   - **First Image:** The screenshot appears to be the top section of the home page featuring an introduction to Sportclub SAFO Frankfurt. It includes the club name, logo, a welcome message, and a photograph of the sports facilities.\n",
      "   - **Second Image:** This screenshot is more comprehensive, displaying a detailed view of the website's homepage or another content-rich page. It includes sections on various topics such as tennis summer training, athletic training, the SAFO Gym, ball school, and several other club-related details like membership, booking, and payment information.\n",
      "\n",
      "2. **Layout:**\n",
      "   - **First Image:** The layout is more simplistic with a large central space dedicated to a welcome message and a single image showing the club’s tennis courts.\n",
      "   - **Second Image:** The layout is denser and more segmented into multiple sections. Each section provides different pieces of information, possibly as part of a lengthy scrollable homepage or a detailed subpage.\n",
      "\n",
      "3. **Visible Sections:**\n",
      "   - **First Image:** Focuses mainly on introducing the club with the title, welcome message, and a photograph.\n",
      "   - **Second Image:** Includes multiple sections such as “Tennis - Sommertraining,” “Athletiktraining,” “SAFO Gym,” “Ballschule,” “\n"
     ]
    }
   ],
   "source": [
    "import os\n",
    "from src.utils import encode_image\n",
    "\n",
    "api_key = os.environ[\"OPENAI_API_KEY\"]\n",
    "prompt = \"describe the images. how do they differ?\"\n",
    "image_paths = [Path(\"screenshots/02.jpg\"), Path(\"screenshots/fullpage.jpg\")]\n",
    "\n",
    "user_message = create_user_message(prompt=prompt, image_paths=image_paths)\n",
    "payload = create_payload(user_message)\n",
    "response = get_openai_response(api_key, payload)\n",
    "response_text = get_response_text(response)\n",
    "print(response_text)\n",
    "\n",
    "# TODO: kann ich zwei bilder an open ai geben?\n",
    "# TODO: wie klein kann ein bild sein?"
   ]
  },
  {
   "cell_type": "code",
   "execution_count": 1,
   "metadata": {},
   "outputs": [],
   "source": [
    "def parse_actor_response(text: str) -> tuple[str, str]:\n",
    "    found_answer_actions: list = re.findall(r'ANSWER\\(\"[a-zA-Z]+\\)', text)\n",
    "    found_click_actions: list = re.findall(r'CLICK\\(\"[a-zA-Z]+\"\\)', text)\n",
    "    found_type_actions: list = re.findall(r'INPUT\\(\"[a-zA-z0-9]+\"\\)', text)\n",
    "    found_scroll_actions: list = re.findall(r'SCROLL\\(\"[a-zA-z0-9]+\"\\)', text)\n",
    "    found_analyze_table_actions: list = re.findall(r'ANALYZE_TABLE\\(\"[a-zA-z0-9]+\"\\)', text)\n",
    "\n",
    "    if len(found_answer_actions) > 1: raise ValueError(f\"Found multiple ANSWER actions in response!\")\n",
    "    if len(found_click_actions) > 1: raise ValueError(f\"Found multiple CLICK actions in response!\")\n",
    "    if len(found_type_actions) > 1: raise ValueError(f\"Found multiple TYPE actions in response!\")\n",
    "    if len(found_scroll_actions) > 1: raise ValueError(f\"Found multiple SCROLL actions in response!\")\n",
    "    if len(found_analyze_table_actions) > 1: raise ValueError(f\"Found multiple ANALYZE_TABLE actions in response!\")\n",
    "    if not found_answer_actions and not found_click_actions and not found_type_actions and not found_scroll_actions and not found_analyze_table_actions: raise ValueError(\"No Action found in response!\")\n",
    "\n",
    "    if found_answer_actions:\n",
    "        answer = found_answer_actions[0].split('\\\"')[1]\n",
    "        return (\"ANSWER\", answer)\n",
    "    elif found_scroll_actions:\n",
    "        direction = found_scroll_actions[0].split('\\\"')[1]\n",
    "        return (\"SCROLL\", direction)\n",
    "    elif found_click_actions:\n",
    "        letters = found_click_actions[0].split('\\\"')[1]\n",
    "        return (\"CLICK\", letters)\n",
    "    elif found_type_actions:\n",
    "        text = found_type_actions[0].split('\\\"')[1]\n",
    "        return (\"INPUT\", text)\n",
    "    elif found_analyze_table_actions:\n",
    "        text = found_analyze_table_actions[0].split('\\\"')[1]\n",
    "        return (\"ANALYZE_TABLE\", text)\n",
    "    else:\n",
    "        raise ValueError(\"No Action found in response!\")\n",
    "\n",
    "response = \"\"\"\n",
    "Thought: To determine which outside tennis courts are free for 1 hour between 17:00 and 19:00 today, I need to analyze the schedule table for the specified time range and identify the available courts.\n",
    "\n",
    "Action: ANALYZE_TABLE(\"Identify which courts (Platz 1 to Platz 17) are marked as 'B' between 17:00 and 19:00 on Friday, 14.06.2024.\")\n",
    "\"\"\"\n",
    "\n"
   ]
  }
 ],
 "metadata": {
  "kernelspec": {
   "display_name": ".venv",
   "language": "python",
   "name": "python3"
  },
  "language_info": {
   "codemirror_mode": {
    "name": "ipython",
    "version": 3
   },
   "file_extension": ".py",
   "mimetype": "text/x-python",
   "name": "python",
   "nbconvert_exporter": "python",
   "pygments_lexer": "ipython3",
   "version": "3.12.1"
  }
 },
 "nbformat": 4,
 "nbformat_minor": 2
}
